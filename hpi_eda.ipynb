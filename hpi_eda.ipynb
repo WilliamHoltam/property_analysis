{
 "cells": [
  {
   "cell_type": "markdown",
   "metadata": {},
   "source": [
    "UK Housing Price Index EDA\n",
    "==========================\n",
    "\n",
    "This is an EDA for the [UK Housing Price Index](https://www.gov.uk/government/collections/uk-house-price-index-reports \"UK HPI\")."
   ]
  },
  {
   "cell_type": "code",
   "execution_count": 14,
   "metadata": {},
   "outputs": [],
   "source": [
    "import numpy as np\n",
    "import pandas as pd\n",
    "import matplotlib.pyplot as plt\n",
    "import seaborn as sns\n",
    "from pathlib import Path"
   ]
  },
  {
   "cell_type": "code",
   "execution_count": 8,
   "metadata": {},
   "outputs": [],
   "source": [
    "path = Path(r\"C:\\Users\\WilliamHoltam\\Documents\\GitHubRepos\\property_analysis\")"
   ]
  },
  {
   "cell_type": "code",
   "execution_count": 10,
   "metadata": {},
   "outputs": [],
   "source": [
    "data = pd.read_csv(path / \"UK-HPI-full_file-2018-10.csv\")"
   ]
  },
  {
   "cell_type": "code",
   "execution_count": 11,
   "metadata": {},
   "outputs": [
    {
     "data": {
      "text/html": [
       "<div>\n",
       "<style scoped>\n",
       "    .dataframe tbody tr th:only-of-type {\n",
       "        vertical-align: middle;\n",
       "    }\n",
       "\n",
       "    .dataframe tbody tr th {\n",
       "        vertical-align: top;\n",
       "    }\n",
       "\n",
       "    .dataframe thead th {\n",
       "        text-align: right;\n",
       "    }\n",
       "</style>\n",
       "<table border=\"1\" class=\"dataframe\">\n",
       "  <thead>\n",
       "    <tr style=\"text-align: right;\">\n",
       "      <th></th>\n",
       "      <th>Date</th>\n",
       "      <th>RegionName</th>\n",
       "      <th>AreaCode</th>\n",
       "      <th>AveragePrice</th>\n",
       "      <th>Index</th>\n",
       "      <th>IndexSA</th>\n",
       "      <th>1m%Change</th>\n",
       "      <th>12m%Change</th>\n",
       "      <th>AveragePriceSA</th>\n",
       "      <th>SalesVolume</th>\n",
       "      <th>...</th>\n",
       "      <th>NewPrice</th>\n",
       "      <th>NewIndex</th>\n",
       "      <th>New1m%Change</th>\n",
       "      <th>New12m%Change</th>\n",
       "      <th>NewSalesVolume</th>\n",
       "      <th>OldPrice</th>\n",
       "      <th>OldIndex</th>\n",
       "      <th>Old1m%Change</th>\n",
       "      <th>Old12m%Change</th>\n",
       "      <th>OldSalesVolume</th>\n",
       "    </tr>\n",
       "  </thead>\n",
       "  <tbody>\n",
       "    <tr>\n",
       "      <th>0</th>\n",
       "      <td>01/01/2004</td>\n",
       "      <td>Aberdeenshire</td>\n",
       "      <td>S12000034</td>\n",
       "      <td>81693.66964</td>\n",
       "      <td>40.864214</td>\n",
       "      <td>NaN</td>\n",
       "      <td>NaN</td>\n",
       "      <td>NaN</td>\n",
       "      <td>NaN</td>\n",
       "      <td>388.0</td>\n",
       "      <td>...</td>\n",
       "      <td>88436.13953</td>\n",
       "      <td>40.267250</td>\n",
       "      <td>NaN</td>\n",
       "      <td>NaN</td>\n",
       "      <td>103.0</td>\n",
       "      <td>81043.95084</td>\n",
       "      <td>40.883367</td>\n",
       "      <td>NaN</td>\n",
       "      <td>NaN</td>\n",
       "      <td>285.0</td>\n",
       "    </tr>\n",
       "    <tr>\n",
       "      <th>1</th>\n",
       "      <td>01/02/2004</td>\n",
       "      <td>Aberdeenshire</td>\n",
       "      <td>S12000034</td>\n",
       "      <td>81678.76231</td>\n",
       "      <td>40.856757</td>\n",
       "      <td>NaN</td>\n",
       "      <td>-0.018248</td>\n",
       "      <td>NaN</td>\n",
       "      <td>NaN</td>\n",
       "      <td>326.0</td>\n",
       "      <td>...</td>\n",
       "      <td>88606.44649</td>\n",
       "      <td>40.344795</td>\n",
       "      <td>0.192576</td>\n",
       "      <td>NaN</td>\n",
       "      <td>107.0</td>\n",
       "      <td>80965.29542</td>\n",
       "      <td>40.843688</td>\n",
       "      <td>-0.097053</td>\n",
       "      <td>NaN</td>\n",
       "      <td>219.0</td>\n",
       "    </tr>\n",
       "    <tr>\n",
       "      <th>2</th>\n",
       "      <td>01/03/2004</td>\n",
       "      <td>Aberdeenshire</td>\n",
       "      <td>S12000034</td>\n",
       "      <td>83525.09702</td>\n",
       "      <td>41.780317</td>\n",
       "      <td>NaN</td>\n",
       "      <td>2.260483</td>\n",
       "      <td>NaN</td>\n",
       "      <td>NaN</td>\n",
       "      <td>453.0</td>\n",
       "      <td>...</td>\n",
       "      <td>90296.91375</td>\n",
       "      <td>41.114508</td>\n",
       "      <td>1.907838</td>\n",
       "      <td>NaN</td>\n",
       "      <td>140.0</td>\n",
       "      <td>82903.23948</td>\n",
       "      <td>41.821302</td>\n",
       "      <td>2.393549</td>\n",
       "      <td>NaN</td>\n",
       "      <td>313.0</td>\n",
       "    </tr>\n",
       "    <tr>\n",
       "      <th>3</th>\n",
       "      <td>01/04/2004</td>\n",
       "      <td>Aberdeenshire</td>\n",
       "      <td>S12000034</td>\n",
       "      <td>84333.67900</td>\n",
       "      <td>42.184780</td>\n",
       "      <td>NaN</td>\n",
       "      <td>0.968071</td>\n",
       "      <td>NaN</td>\n",
       "      <td>NaN</td>\n",
       "      <td>571.0</td>\n",
       "      <td>...</td>\n",
       "      <td>90319.87844</td>\n",
       "      <td>41.124964</td>\n",
       "      <td>0.025432</td>\n",
       "      <td>NaN</td>\n",
       "      <td>180.0</td>\n",
       "      <td>84003.99161</td>\n",
       "      <td>42.376586</td>\n",
       "      <td>1.327755</td>\n",
       "      <td>NaN</td>\n",
       "      <td>391.0</td>\n",
       "    </tr>\n",
       "    <tr>\n",
       "      <th>4</th>\n",
       "      <td>01/05/2004</td>\n",
       "      <td>Aberdeenshire</td>\n",
       "      <td>S12000034</td>\n",
       "      <td>86379.95396</td>\n",
       "      <td>43.208353</td>\n",
       "      <td>NaN</td>\n",
       "      <td>2.426403</td>\n",
       "      <td>NaN</td>\n",
       "      <td>NaN</td>\n",
       "      <td>502.0</td>\n",
       "      <td>...</td>\n",
       "      <td>91989.17763</td>\n",
       "      <td>41.885039</td>\n",
       "      <td>1.848208</td>\n",
       "      <td>NaN</td>\n",
       "      <td>167.0</td>\n",
       "      <td>86222.73484</td>\n",
       "      <td>43.495852</td>\n",
       "      <td>2.641235</td>\n",
       "      <td>NaN</td>\n",
       "      <td>335.0</td>\n",
       "    </tr>\n",
       "  </tbody>\n",
       "</table>\n",
       "<p>5 rows × 54 columns</p>\n",
       "</div>"
      ],
      "text/plain": [
       "         Date     RegionName   AreaCode  AveragePrice      Index  IndexSA  \\\n",
       "0  01/01/2004  Aberdeenshire  S12000034   81693.66964  40.864214      NaN   \n",
       "1  01/02/2004  Aberdeenshire  S12000034   81678.76231  40.856757      NaN   \n",
       "2  01/03/2004  Aberdeenshire  S12000034   83525.09702  41.780317      NaN   \n",
       "3  01/04/2004  Aberdeenshire  S12000034   84333.67900  42.184780      NaN   \n",
       "4  01/05/2004  Aberdeenshire  S12000034   86379.95396  43.208353      NaN   \n",
       "\n",
       "   1m%Change  12m%Change  AveragePriceSA  SalesVolume       ...        \\\n",
       "0        NaN         NaN             NaN        388.0       ...         \n",
       "1  -0.018248         NaN             NaN        326.0       ...         \n",
       "2   2.260483         NaN             NaN        453.0       ...         \n",
       "3   0.968071         NaN             NaN        571.0       ...         \n",
       "4   2.426403         NaN             NaN        502.0       ...         \n",
       "\n",
       "      NewPrice   NewIndex  New1m%Change  New12m%Change  NewSalesVolume  \\\n",
       "0  88436.13953  40.267250           NaN            NaN           103.0   \n",
       "1  88606.44649  40.344795      0.192576            NaN           107.0   \n",
       "2  90296.91375  41.114508      1.907838            NaN           140.0   \n",
       "3  90319.87844  41.124964      0.025432            NaN           180.0   \n",
       "4  91989.17763  41.885039      1.848208            NaN           167.0   \n",
       "\n",
       "      OldPrice   OldIndex  Old1m%Change  Old12m%Change  OldSalesVolume  \n",
       "0  81043.95084  40.883367           NaN            NaN           285.0  \n",
       "1  80965.29542  40.843688     -0.097053            NaN           219.0  \n",
       "2  82903.23948  41.821302      2.393549            NaN           313.0  \n",
       "3  84003.99161  42.376586      1.327755            NaN           391.0  \n",
       "4  86222.73484  43.495852      2.641235            NaN           335.0  \n",
       "\n",
       "[5 rows x 54 columns]"
      ]
     },
     "execution_count": 11,
     "metadata": {},
     "output_type": "execute_result"
    }
   ],
   "source": [
    "data.head()"
   ]
  },
  {
   "cell_type": "code",
   "execution_count": 27,
   "metadata": {},
   "outputs": [
    {
     "data": {
      "text/plain": [
       "(124551, 54)"
      ]
     },
     "execution_count": 27,
     "metadata": {},
     "output_type": "execute_result"
    }
   ],
   "source": [
    "data.shape"
   ]
  },
  {
   "cell_type": "code",
   "execution_count": 13,
   "metadata": {},
   "outputs": [
    {
     "data": {
      "text/plain": [
       "Date                       object\n",
       "RegionName                 object\n",
       "AreaCode                   object\n",
       "AveragePrice              float64\n",
       "Index                     float64\n",
       "IndexSA                   float64\n",
       "1m%Change                 float64\n",
       "12m%Change                float64\n",
       "AveragePriceSA            float64\n",
       "SalesVolume               float64\n",
       "DetachedPrice             float64\n",
       "DetachedIndex             float64\n",
       "Detached1m%Change         float64\n",
       "Detached12m%Change        float64\n",
       "SemiDetachedPrice         float64\n",
       "SemiDetachedIndex         float64\n",
       "SemiDetached1m%Change     float64\n",
       "SemiDetached12m%Change    float64\n",
       "TerracedPrice             float64\n",
       "TerracedIndex             float64\n",
       "Terraced1m%Change         float64\n",
       "Terraced12m%Change        float64\n",
       "FlatPrice                 float64\n",
       "FlatIndex                 float64\n",
       "Flat1m%Change             float64\n",
       "Flat12m%Change            float64\n",
       "CashPrice                 float64\n",
       "CashIndex                 float64\n",
       "Cash1m%Change             float64\n",
       "Cash12m%Change            float64\n",
       "CashSalesVolume           float64\n",
       "MortgagePrice             float64\n",
       "MortgageIndex             float64\n",
       "Mortgage1m%Change         float64\n",
       "Mortgage12m%Change        float64\n",
       "MortgageSalesVolume       float64\n",
       "FTBPrice                  float64\n",
       "FTBIndex                  float64\n",
       "FTB1m%Change              float64\n",
       "FTB12m%Change             float64\n",
       "FOOPrice                  float64\n",
       "FOOIndex                  float64\n",
       "FOO1m%Change              float64\n",
       "FOO12m%Change             float64\n",
       "NewPrice                  float64\n",
       "NewIndex                  float64\n",
       "New1m%Change              float64\n",
       "New12m%Change             float64\n",
       "NewSalesVolume            float64\n",
       "OldPrice                  float64\n",
       "OldIndex                  float64\n",
       "Old1m%Change              float64\n",
       "Old12m%Change             float64\n",
       "OldSalesVolume            float64\n",
       "dtype: object"
      ]
     },
     "execution_count": 13,
     "metadata": {},
     "output_type": "execute_result"
    }
   ],
   "source": [
    "data.dtypes"
   ]
  },
  {
   "cell_type": "code",
   "execution_count": 20,
   "metadata": {},
   "outputs": [
    {
     "data": {
      "text/plain": [
       "[]"
      ]
     },
     "execution_count": 20,
     "metadata": {},
     "output_type": "execute_result"
    },
    {
     "data": {
      "image/png": "[encoded data removed]",
      "text/plain": [
       "<Figure size 720x720 with 2 Axes>"
      ]
     },
     "metadata": {
      "needs_background": "light"
     },
     "output_type": "display_data"
    }
   ],
   "source": [
    "fig, ax = plt.subplots(figsize=(10,10))\n",
    "sns.heatmap(data.isnull())\n",
    "plt.plot()"
   ]
  },
  {
   "cell_type": "code",
   "execution_count": 26,
   "metadata": {},
   "outputs": [
    {
     "data": {
      "text/plain": [
       "Date                      0.000000\n",
       "RegionName                0.000000\n",
       "AreaCode                  0.000000\n",
       "AveragePrice              0.000000\n",
       "Index                     0.000000\n",
       "IndexSA                   0.968254\n",
       "1m%Change                 0.003741\n",
       "12m%Change                0.042681\n",
       "AveragePriceSA            0.968254\n",
       "SalesVolume               0.036443\n",
       "DetachedPrice             0.046318\n",
       "DetachedIndex             0.046318\n",
       "Detached1m%Change         0.049779\n",
       "Detached12m%Change        0.087651\n",
       "SemiDetachedPrice         0.046318\n",
       "SemiDetachedIndex         0.046318\n",
       "SemiDetached1m%Change     0.049779\n",
       "SemiDetached12m%Change    0.087651\n",
       "TerracedPrice             0.046118\n",
       "TerracedIndex             0.046118\n",
       "Terraced1m%Change         0.049578\n",
       "Terraced12m%Change        0.087450\n",
       "FlatPrice                 0.044022\n",
       "FlatIndex                 0.044022\n",
       "Flat1m%Change             0.047491\n",
       "Flat12m%Change            0.085451\n",
       "CashPrice                 0.718220\n",
       "CashIndex                 0.718220\n",
       "Cash1m%Change             0.721656\n",
       "Cash12m%Change            0.759456\n",
       "CashSalesVolume           0.725101\n",
       "MortgagePrice             0.718220\n",
       "MortgageIndex             0.718220\n",
       "Mortgage1m%Change         0.721656\n",
       "Mortgage12m%Change        0.759456\n",
       "MortgageSalesVolume       0.725093\n",
       "FTBPrice                  0.715040\n",
       "FTBIndex                  0.715040\n",
       "FTB1m%Change              0.718477\n",
       "FTB12m%Change             0.756277\n",
       "FOOPrice                  0.718220\n",
       "FOOIndex                  0.718220\n",
       "FOO1m%Change              0.721656\n",
       "FOO12m%Change             0.759456\n",
       "NewPrice                  0.050951\n",
       "NewIndex                  0.050951\n",
       "New1m%Change              0.054419\n",
       "New12m%Change             0.092380\n",
       "NewSalesVolume            0.053512\n",
       "OldPrice                  0.050927\n",
       "OldIndex                  0.050927\n",
       "Old1m%Change              0.054395\n",
       "Old12m%Change             0.092356\n",
       "OldSalesVolume            0.051023\n",
       "dtype: float64"
      ]
     },
     "execution_count": 26,
     "metadata": {},
     "output_type": "execute_result"
    }
   ],
   "source": [
    "data.isnull().sum()/len(data.isnull())"
   ]
  },
  {
   "cell_type": "code",
   "execution_count": null,
   "metadata": {},
   "outputs": [],
   "source": []
  }
 ],
 "metadata": {
  "kernelspec": {
   "display_name": "Python [conda env:property_modeling]",
   "language": "python",
   "name": "conda-env-property_modeling-py"
  },
  "language_info": {
   "codemirror_mode": {
    "name": "ipython",
    "version": 3
   },
   "file_extension": ".py",
   "mimetype": "text/x-python",
   "name": "python",
   "nbconvert_exporter": "python",
   "pygments_lexer": "ipython3",
   "version": "3.7.1"
  }
 },
 "nbformat": 4,
 "nbformat_minor": 2
}
